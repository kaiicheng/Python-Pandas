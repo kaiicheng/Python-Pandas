{
 "cells": [
  {
   "cell_type": "code",
   "execution_count": 1,
   "metadata": {},
   "outputs": [],
   "source": [
    "import requests\n",
    "from bs4 import BeautifulSoup"
   ]
  },
  {
   "cell_type": "code",
   "execution_count": 3,
   "metadata": {},
   "outputs": [],
   "source": [
    "def get_price_rank():\n",
    "    query_str_parameters = {\n",
    "        't': 'pri',\n",
    "        'e': 'tse',\n",
    "        'n': '100'\n",
    "    }\n",
    "    request_url = \"https://tw.stock.yahoo.com/d/i/rank.php\"\n",
    "    response = requests.get(request_url, params=query_str_parameters)\n",
    "    soup = BeautifulSoup(response.text)\n",
    "    stock_tickers = []\n",
    "    stock_names = []\n",
    "    for e in soup.select(\".name a\"):\n",
    "        stock_ticker = e.text.split()[0]\n",
    "        stock_name = e.text.split()[1]\n",
    "        stock_tickers.append(stock_ticker)\n",
    "        stock_names.append(stock_name)\n",
    "    prices = [float(e.text) for e in soup.select('.name+ td')]\n",
    "    return stock_tickers, stock_names, prices"
   ]
  },
  {
   "cell_type": "code",
   "execution_count": 4,
   "metadata": {},
   "outputs": [],
   "source": [
    "stock_tickers, stock_names, prices = get_price_rank()"
   ]
  },
  {
   "cell_type": "code",
   "execution_count": 5,
   "metadata": {},
   "outputs": [
    {
     "name": "stdout",
     "output_type": "stream",
     "text": [
      "['3008', '6415', '5269', '6409', '6669', '2454', '1590', '3406', '2207', '3661', '8454', '2330', '3533', '1476', '2379', '6531', '2327', '8464', '2059', '2049', '3653', '2395', '3563', '9921', '3443', '6504', '3034', '6414', '2912', '4968', '8341', '2227', '9914', '6230', '2357', '2474', '2345', '2404', '3665', '1256', '4137', '3413', '2308', '9910', '8070', '4551', '1477', '2492', '1707', '8462', '3023', '2383', '6491', '3515', '8081', '6670', '1325', '2439', '6582', '5215', '8422', '2360', '4536', '3130', '3376', '6416', '6533', '6706', '8016', '1537', '6271', '6269', '2458', '4439', '4958', '2377', '6715', '4766', '1558', '6456', '2707', '8499', '6278', '4438', '8046', '4912', '4763', '4119', '4943', '4977', '3532', '6213', '5871', '2231', '8480', '3044', '1232', '5434', '6464', '1760']\n",
      "['大立光', '矽力-KY', '祥碩', '旭隼', '緯穎', '聯發科', '亞德客-KY', '玉晶光', '和泰車', '世芯-KY', '富邦媒', '台積電', '嘉澤', '儒鴻', '瑞昱', '愛普', '國巨', '億豐', '川湖', '上銀', '健策', '研華', '牧德', '巨大', '創意', '南六', '聯詠', '樺漢', '統一超', '立積', '日友', '裕日車', '美利達', '超眾', '華碩', '可成', '智邦', '漢唐', '貿聯-KY', '鮮活果汁-KY', '麗豐-KY', '京鼎', '台達電', '豐泰', '長華', '智伸科', '聚陽', '華新科', '葡萄王', '柏文', '信邦', '台光電', '晶碩', '華擎', '致新', '復盛應用', '恆大', '美律', '申豐', '科嘉-KY', '可寧衛', '致茂', '拓凱', '一零四', '新日興', '瑞祺電通', '晶心科', '惠特', '矽創', '廣隆', '同欣電', '台郡', '義隆', '冠星-KY', '臻鼎-KY', '微星', '嘉基', '南寶', '伸興', 'GIS-KY', '晶華', '鼎炫-KY', '台表科', '廣越', '南電', '聯德控股-KY', '材料-KY', '旭富', '康控-KY', '眾達-KY', '台勝科', '聯茂', '中租-KY', '為升', '泰昇-KY', '健鼎', '大統益', '崇越', '台數科', '寶齡富錦']\n",
      "[3900.0, 1755.0, 1705.0, 970.0, 786.0, 680.0, 673.0, 656.0, 630.0, 610.0, 605.0, 419.0, 406.5, 393.0, 392.5, 385.5, 380.5, 339.5, 325.0, 309.0, 304.0, 303.0, 298.5, 297.5, 294.0, 286.0, 282.0, 279.5, 279.5, 266.5, 257.5, 253.0, 252.5, 246.0, 227.0, 219.0, 215.0, 212.0, 209.0, 204.5, 203.5, 200.5, 198.5, 191.0, 190.0, 184.0, 183.0, 182.0, 180.0, 172.5, 171.5, 170.5, 169.0, 168.0, 166.0, 166.0, 165.0, 165.0, 161.5, 161.0, 159.5, 158.0, 156.5, 152.5, 152.0, 149.0, 144.0, 142.0, 141.5, 140.5, 139.0, 138.5, 137.0, 137.0, 137.0, 136.0, 135.0, 134.0, 133.5, 132.5, 132.0, 132.0, 131.5, 130.5, 129.0, 128.5, 127.5, 125.5, 125.5, 125.5, 124.5, 124.0, 124.0, 121.0, 121.0, 120.5, 120.0, 120.0, 120.0, 118.5]\n"
     ]
    }
   ],
   "source": [
    "print(stock_tickers)\n",
    "print(stock_names)\n",
    "print(prices)"
   ]
  },
  {
   "cell_type": "code",
   "execution_count": 8,
   "metadata": {},
   "outputs": [
    {
     "data": {
      "text/plain": [
       "137.0"
      ]
     },
     "execution_count": 8,
     "metadata": {},
     "output_type": "execute_result"
    }
   ],
   "source": [
    "from statistics import median\n",
    "\n",
    "ky_prices = [price for stock_name, price in zip(stock_names, prices) if \"KY\" in stock_name]\n",
    "median(ky_prices)"
   ]
  },
  {
   "cell_type": "code",
   "execution_count": 11,
   "metadata": {},
   "outputs": [
    {
     "name": "stdout",
     "output_type": "stream",
     "text": [
      "17\n"
     ]
    }
   ],
   "source": [
    "# 17 of 100 companies are high prices stock with \"KY\" sign.\n",
    "ky_prices = list()\n",
    "for n, p in zip(stock_names, prices):\n",
    "    if 'KY' in n:\n",
    "        ky_prices.append(p)\n",
    "print(len(ky_prices))\n"
   ]
  },
  {
   "cell_type": "code",
   "execution_count": 12,
   "metadata": {
    "scrolled": true
   },
   "outputs": [
    {
     "data": {
      "text/plain": [
       "[1755.0,\n",
       " 673.0,\n",
       " 610.0,\n",
       " 209.0,\n",
       " 204.5,\n",
       " 203.5,\n",
       " 161.0,\n",
       " 137.0,\n",
       " 137.0,\n",
       " 132.5,\n",
       " 132.0,\n",
       " 128.5,\n",
       " 127.5,\n",
       " 125.5,\n",
       " 125.5,\n",
       " 124.0,\n",
       " 121.0]"
      ]
     },
     "execution_count": 12,
     "metadata": {},
     "output_type": "execute_result"
    }
   ],
   "source": [
    "ky_prices"
   ]
  },
  {
   "cell_type": "code",
   "execution_count": null,
   "metadata": {},
   "outputs": [],
   "source": []
  },
  {
   "cell_type": "code",
   "execution_count": null,
   "metadata": {},
   "outputs": [],
   "source": []
  },
  {
   "cell_type": "code",
   "execution_count": null,
   "metadata": {},
   "outputs": [],
   "source": []
  },
  {
   "cell_type": "code",
   "execution_count": 13,
   "metadata": {},
   "outputs": [],
   "source": [
    "## Python 一直以來都非常適合資料處理，但她的分析能力很薄弱，`pandas` 的開發有助於補足 Python 資料分析的需求，讓使用者能夠在 Python 中執行完整的資料分析流程，而無需切換到 data-centric 的特定語言，如 R。"
   ]
  },
  {
   "cell_type": "code",
   "execution_count": 17,
   "metadata": {},
   "outputs": [
    {
     "data": {
      "text/html": [
       "<div>\n",
       "<style scoped>\n",
       "    .dataframe tbody tr th:only-of-type {\n",
       "        vertical-align: middle;\n",
       "    }\n",
       "\n",
       "    .dataframe tbody tr th {\n",
       "        vertical-align: top;\n",
       "    }\n",
       "\n",
       "    .dataframe thead th {\n",
       "        text-align: right;\n",
       "    }\n",
       "</style>\n",
       "<table border=\"1\" class=\"dataframe\">\n",
       "  <thead>\n",
       "    <tr style=\"text-align: right;\">\n",
       "      <th></th>\n",
       "      <th>ticker</th>\n",
       "      <th>name</th>\n",
       "      <th>price</th>\n",
       "    </tr>\n",
       "  </thead>\n",
       "  <tbody>\n",
       "    <tr>\n",
       "      <th>0</th>\n",
       "      <td>3008</td>\n",
       "      <td>大立光</td>\n",
       "      <td>3900.0</td>\n",
       "    </tr>\n",
       "    <tr>\n",
       "      <th>1</th>\n",
       "      <td>6415</td>\n",
       "      <td>矽力-KY</td>\n",
       "      <td>1755.0</td>\n",
       "    </tr>\n",
       "    <tr>\n",
       "      <th>2</th>\n",
       "      <td>5269</td>\n",
       "      <td>祥碩</td>\n",
       "      <td>1705.0</td>\n",
       "    </tr>\n",
       "    <tr>\n",
       "      <th>3</th>\n",
       "      <td>6409</td>\n",
       "      <td>旭隼</td>\n",
       "      <td>970.0</td>\n",
       "    </tr>\n",
       "    <tr>\n",
       "      <th>4</th>\n",
       "      <td>6669</td>\n",
       "      <td>緯穎</td>\n",
       "      <td>786.0</td>\n",
       "    </tr>\n",
       "  </tbody>\n",
       "</table>\n",
       "</div>"
      ],
      "text/plain": [
       "  ticker   name   price\n",
       "0   3008    大立光  3900.0\n",
       "1   6415  矽力-KY  1755.0\n",
       "2   5269     祥碩  1705.0\n",
       "3   6409     旭隼   970.0\n",
       "4   6669     緯穎   786.0"
      ]
     },
     "execution_count": 17,
     "metadata": {},
     "output_type": "execute_result"
    }
   ],
   "source": [
    "import pandas as pd\n",
    "\n",
    "df = pd.DataFrame()\n",
    "df[\"ticker\"] = stock_tickers\n",
    "df[\"name\"] = stock_names\n",
    "df[\"price\"] = prices\n",
    "df.head()"
   ]
  },
  {
   "cell_type": "code",
   "execution_count": 18,
   "metadata": {},
   "outputs": [
    {
     "data": {
      "text/html": [
       "<div>\n",
       "<style scoped>\n",
       "    .dataframe tbody tr th:only-of-type {\n",
       "        vertical-align: middle;\n",
       "    }\n",
       "\n",
       "    .dataframe tbody tr th {\n",
       "        vertical-align: top;\n",
       "    }\n",
       "\n",
       "    .dataframe thead th {\n",
       "        text-align: right;\n",
       "    }\n",
       "</style>\n",
       "<table border=\"1\" class=\"dataframe\">\n",
       "  <thead>\n",
       "    <tr style=\"text-align: right;\">\n",
       "      <th></th>\n",
       "      <th>ticker</th>\n",
       "      <th>name</th>\n",
       "      <th>price</th>\n",
       "    </tr>\n",
       "  </thead>\n",
       "  <tbody>\n",
       "    <tr>\n",
       "      <th>95</th>\n",
       "      <td>3044</td>\n",
       "      <td>健鼎</td>\n",
       "      <td>120.5</td>\n",
       "    </tr>\n",
       "    <tr>\n",
       "      <th>96</th>\n",
       "      <td>1232</td>\n",
       "      <td>大統益</td>\n",
       "      <td>120.0</td>\n",
       "    </tr>\n",
       "    <tr>\n",
       "      <th>97</th>\n",
       "      <td>5434</td>\n",
       "      <td>崇越</td>\n",
       "      <td>120.0</td>\n",
       "    </tr>\n",
       "    <tr>\n",
       "      <th>98</th>\n",
       "      <td>6464</td>\n",
       "      <td>台數科</td>\n",
       "      <td>120.0</td>\n",
       "    </tr>\n",
       "    <tr>\n",
       "      <th>99</th>\n",
       "      <td>1760</td>\n",
       "      <td>寶齡富錦</td>\n",
       "      <td>118.5</td>\n",
       "    </tr>\n",
       "  </tbody>\n",
       "</table>\n",
       "</div>"
      ],
      "text/plain": [
       "   ticker  name  price\n",
       "95   3044    健鼎  120.5\n",
       "96   1232   大統益  120.0\n",
       "97   5434    崇越  120.0\n",
       "98   6464   台數科  120.0\n",
       "99   1760  寶齡富錦  118.5"
      ]
     },
     "execution_count": 18,
     "metadata": {},
     "output_type": "execute_result"
    }
   ],
   "source": [
    "df.tail()"
   ]
  },
  {
   "cell_type": "code",
   "execution_count": 19,
   "metadata": {},
   "outputs": [
    {
     "data": {
      "text/plain": [
       "0     3900.0\n",
       "1     1755.0\n",
       "2     1705.0\n",
       "3      970.0\n",
       "4      786.0\n",
       "       ...  \n",
       "95     120.5\n",
       "96     120.0\n",
       "97     120.0\n",
       "98     120.0\n",
       "99     118.5\n",
       "Name: price, Length: 100, dtype: float64"
      ]
     },
     "execution_count": 19,
     "metadata": {},
     "output_type": "execute_result"
    }
   ],
   "source": [
    "df['price']"
   ]
  },
  {
   "cell_type": "code",
   "execution_count": 20,
   "metadata": {},
   "outputs": [
    {
     "data": {
      "text/plain": [
       "0       大立光\n",
       "1     矽力-KY\n",
       "2        祥碩\n",
       "3        旭隼\n",
       "4        緯穎\n",
       "      ...  \n",
       "95       健鼎\n",
       "96      大統益\n",
       "97       崇越\n",
       "98      台數科\n",
       "99     寶齡富錦\n",
       "Name: name, Length: 100, dtype: object"
      ]
     },
     "execution_count": 20,
     "metadata": {},
     "output_type": "execute_result"
    }
   ],
   "source": [
    "df['name']"
   ]
  },
  {
   "cell_type": "code",
   "execution_count": 21,
   "metadata": {},
   "outputs": [
    {
     "data": {
      "text/plain": [
       "ticker     object\n",
       "name       object\n",
       "price     float64\n",
       "dtype: object"
      ]
     },
     "execution_count": 21,
     "metadata": {},
     "output_type": "execute_result"
    }
   ],
   "source": [
    "# Get data of a single company.\n",
    "df.dtypes"
   ]
  },
  {
   "cell_type": "code",
   "execution_count": 22,
   "metadata": {},
   "outputs": [
    {
     "data": {
      "text/plain": [
       "ticker    3008\n",
       "name       大立光\n",
       "price     3900\n",
       "Name: 0, dtype: object"
      ]
     },
     "execution_count": 22,
     "metadata": {},
     "output_type": "execute_result"
    }
   ],
   "source": [
    "df.loc[0, :]"
   ]
  },
  {
   "cell_type": "code",
   "execution_count": 23,
   "metadata": {},
   "outputs": [
    {
     "data": {
      "text/plain": [
       "ticker    3008\n",
       "name       大立光\n",
       "price     3900\n",
       "Name: 0, dtype: object"
      ]
     },
     "execution_count": 23,
     "metadata": {},
     "output_type": "execute_result"
    }
   ],
   "source": [
    "df.loc[0, ]"
   ]
  },
  {
   "cell_type": "code",
   "execution_count": 24,
   "metadata": {},
   "outputs": [
    {
     "data": {
      "text/html": [
       "<div>\n",
       "<style scoped>\n",
       "    .dataframe tbody tr th:only-of-type {\n",
       "        vertical-align: middle;\n",
       "    }\n",
       "\n",
       "    .dataframe tbody tr th {\n",
       "        vertical-align: top;\n",
       "    }\n",
       "\n",
       "    .dataframe thead th {\n",
       "        text-align: right;\n",
       "    }\n",
       "</style>\n",
       "<table border=\"1\" class=\"dataframe\">\n",
       "  <thead>\n",
       "    <tr style=\"text-align: right;\">\n",
       "      <th></th>\n",
       "      <th>ticker</th>\n",
       "      <th>name</th>\n",
       "      <th>price</th>\n",
       "    </tr>\n",
       "  </thead>\n",
       "  <tbody>\n",
       "    <tr>\n",
       "      <th>1</th>\n",
       "      <td>6415</td>\n",
       "      <td>矽力-KY</td>\n",
       "      <td>1755.0</td>\n",
       "    </tr>\n",
       "    <tr>\n",
       "      <th>6</th>\n",
       "      <td>1590</td>\n",
       "      <td>亞德客-KY</td>\n",
       "      <td>673.0</td>\n",
       "    </tr>\n",
       "    <tr>\n",
       "      <th>9</th>\n",
       "      <td>3661</td>\n",
       "      <td>世芯-KY</td>\n",
       "      <td>610.0</td>\n",
       "    </tr>\n",
       "    <tr>\n",
       "      <th>38</th>\n",
       "      <td>3665</td>\n",
       "      <td>貿聯-KY</td>\n",
       "      <td>209.0</td>\n",
       "    </tr>\n",
       "    <tr>\n",
       "      <th>39</th>\n",
       "      <td>1256</td>\n",
       "      <td>鮮活果汁-KY</td>\n",
       "      <td>204.5</td>\n",
       "    </tr>\n",
       "    <tr>\n",
       "      <th>40</th>\n",
       "      <td>4137</td>\n",
       "      <td>麗豐-KY</td>\n",
       "      <td>203.5</td>\n",
       "    </tr>\n",
       "    <tr>\n",
       "      <th>59</th>\n",
       "      <td>5215</td>\n",
       "      <td>科嘉-KY</td>\n",
       "      <td>161.0</td>\n",
       "    </tr>\n",
       "    <tr>\n",
       "      <th>73</th>\n",
       "      <td>4439</td>\n",
       "      <td>冠星-KY</td>\n",
       "      <td>137.0</td>\n",
       "    </tr>\n",
       "    <tr>\n",
       "      <th>74</th>\n",
       "      <td>4958</td>\n",
       "      <td>臻鼎-KY</td>\n",
       "      <td>137.0</td>\n",
       "    </tr>\n",
       "    <tr>\n",
       "      <th>79</th>\n",
       "      <td>6456</td>\n",
       "      <td>GIS-KY</td>\n",
       "      <td>132.5</td>\n",
       "    </tr>\n",
       "    <tr>\n",
       "      <th>81</th>\n",
       "      <td>8499</td>\n",
       "      <td>鼎炫-KY</td>\n",
       "      <td>132.0</td>\n",
       "    </tr>\n",
       "    <tr>\n",
       "      <th>85</th>\n",
       "      <td>4912</td>\n",
       "      <td>聯德控股-KY</td>\n",
       "      <td>128.5</td>\n",
       "    </tr>\n",
       "    <tr>\n",
       "      <th>86</th>\n",
       "      <td>4763</td>\n",
       "      <td>材料-KY</td>\n",
       "      <td>127.5</td>\n",
       "    </tr>\n",
       "    <tr>\n",
       "      <th>88</th>\n",
       "      <td>4943</td>\n",
       "      <td>康控-KY</td>\n",
       "      <td>125.5</td>\n",
       "    </tr>\n",
       "    <tr>\n",
       "      <th>89</th>\n",
       "      <td>4977</td>\n",
       "      <td>眾達-KY</td>\n",
       "      <td>125.5</td>\n",
       "    </tr>\n",
       "    <tr>\n",
       "      <th>92</th>\n",
       "      <td>5871</td>\n",
       "      <td>中租-KY</td>\n",
       "      <td>124.0</td>\n",
       "    </tr>\n",
       "    <tr>\n",
       "      <th>94</th>\n",
       "      <td>8480</td>\n",
       "      <td>泰昇-KY</td>\n",
       "      <td>121.0</td>\n",
       "    </tr>\n",
       "  </tbody>\n",
       "</table>\n",
       "</div>"
      ],
      "text/plain": [
       "   ticker     name   price\n",
       "1    6415    矽力-KY  1755.0\n",
       "6    1590   亞德客-KY   673.0\n",
       "9    3661    世芯-KY   610.0\n",
       "38   3665    貿聯-KY   209.0\n",
       "39   1256  鮮活果汁-KY   204.5\n",
       "40   4137    麗豐-KY   203.5\n",
       "59   5215    科嘉-KY   161.0\n",
       "73   4439    冠星-KY   137.0\n",
       "74   4958    臻鼎-KY   137.0\n",
       "79   6456   GIS-KY   132.5\n",
       "81   8499    鼎炫-KY   132.0\n",
       "85   4912  聯德控股-KY   128.5\n",
       "86   4763    材料-KY   127.5\n",
       "88   4943    康控-KY   125.5\n",
       "89   4977    眾達-KY   125.5\n",
       "92   5871    中租-KY   124.0\n",
       "94   8480    泰昇-KY   121.0"
      ]
     },
     "execution_count": 24,
     "metadata": {},
     "output_type": "execute_result"
    }
   ],
   "source": [
    "# Get data of companies with \"KY\" sign.\n",
    "df[df[\"name\"].str.contains('KY')]"
   ]
  },
  {
   "cell_type": "code",
   "execution_count": 26,
   "metadata": {},
   "outputs": [
    {
     "data": {
      "text/plain": [
       "1     1755.0\n",
       "6      673.0\n",
       "9      610.0\n",
       "38     209.0\n",
       "39     204.5\n",
       "40     203.5\n",
       "59     161.0\n",
       "73     137.0\n",
       "74     137.0\n",
       "79     132.5\n",
       "81     132.0\n",
       "85     128.5\n",
       "86     127.5\n",
       "88     125.5\n",
       "89     125.5\n",
       "92     124.0\n",
       "94     121.0\n",
       "Name: price, dtype: float64"
      ]
     },
     "execution_count": 26,
     "metadata": {},
     "output_type": "execute_result"
    }
   ],
   "source": [
    "df[df[\"name\"].str.contains('KY')]['price']"
   ]
  },
  {
   "cell_type": "code",
   "execution_count": 28,
   "metadata": {},
   "outputs": [
    {
     "data": {
      "text/plain": [
       "137.0"
      ]
     },
     "execution_count": 28,
     "metadata": {},
     "output_type": "execute_result"
    }
   ],
   "source": [
    "df[df[\"name\"].str.contains(\"KY\")][\"price\"].median()"
   ]
  },
  {
   "cell_type": "code",
   "execution_count": null,
   "metadata": {},
   "outputs": [],
   "source": []
  },
  {
   "cell_type": "code",
   "execution_count": null,
   "metadata": {},
   "outputs": [],
   "source": []
  },
  {
   "cell_type": "code",
   "execution_count": null,
   "metadata": {},
   "outputs": [],
   "source": []
  },
  {
   "cell_type": "code",
   "execution_count": 35,
   "metadata": {},
   "outputs": [],
   "source": [
    "## pandas 提供了新的資料結構"
   ]
  },
  {
   "cell_type": "code",
   "execution_count": 36,
   "metadata": {},
   "outputs": [
    {
     "name": "stdout",
     "output_type": "stream",
     "text": [
      "Requirement already satisfied: pandas in c:\\users\\paul\\anaconda3\\lib\\site-packages (1.0.1)\n",
      "Requirement already satisfied: pytz>=2017.2 in c:\\users\\paul\\anaconda3\\lib\\site-packages (from pandas) (2019.3)\n",
      "Requirement already satisfied: numpy>=1.13.3 in c:\\users\\paul\\anaconda3\\lib\\site-packages (from pandas) (1.18.1)\n",
      "Requirement already satisfied: python-dateutil>=2.6.1 in c:\\users\\paul\\anaconda3\\lib\\site-packages (from pandas) (2.8.1)\n",
      "Requirement already satisfied: six>=1.5 in c:\\users\\paul\\anaconda3\\lib\\site-packages (from python-dateutil>=2.6.1->pandas) (1.14.0)\n"
     ]
    },
    {
     "name": "stderr",
     "output_type": "stream",
     "text": [
      "WARNING: You are using pip version 20.1.1; however, version 20.2.2 is available.\n",
      "You should consider upgrading via the 'c:\\users\\paul\\anaconda3\\python.exe -m pip install --upgrade pip' command.\n"
     ]
    }
   ],
   "source": [
    "# run in bash shell\n",
    "!pip install pandas"
   ]
  },
  {
   "cell_type": "code",
   "execution_count": 37,
   "metadata": {},
   "outputs": [],
   "source": [
    "# run in python console\n",
    "import pandas as pd"
   ]
  },
  {
   "cell_type": "code",
   "execution_count": 39,
   "metadata": {},
   "outputs": [
    {
     "name": "stdout",
     "output_type": "stream",
     "text": [
      "<class 'pandas.core.series.Series'>\n",
      "0    8.0\n",
      "1    7.3\n",
      "2    8.5\n",
      "3    8.6\n",
      "dtype: float64\n",
      "8.6\n"
     ]
    }
   ],
   "source": [
    "movie_ratings = [8.0, 7.3, 8.5, 8.6]\n",
    "ser = pd.Series(movie_ratings)"
   ]
  },
  {
   "cell_type": "code",
   "execution_count": 40,
   "metadata": {},
   "outputs": [
    {
     "name": "stdout",
     "output_type": "stream",
     "text": [
      "<class 'pandas.core.series.Series'>\n",
      "0    8.0\n",
      "1    7.3\n",
      "2    8.5\n",
      "3    8.6\n",
      "dtype: float64\n",
      "8.6\n"
     ]
    }
   ],
   "source": [
    "# Pandas add index key.\n",
    "print(type(ser))\n",
    "print(ser)\n",
    "print(ser[3])"
   ]
  },
  {
   "cell_type": "code",
   "execution_count": 42,
   "metadata": {},
   "outputs": [
    {
     "data": {
      "text/plain": [
       "The Avengers               8.0\n",
       "Avengers: Age of Ultron    7.3\n",
       "Avengers: Infinite War     8.5\n",
       "Avengers: Endgame          8.6\n",
       "dtype: float64"
      ]
     },
     "execution_count": 42,
     "metadata": {},
     "output_type": "execute_result"
    }
   ],
   "source": [
    "movie_titles = ['The Avengers', 'Avengers: Age of Ultron', 'Avengers: Infinite War', 'Avengers: Endgame']\n",
    "ser = pd.Series(movie_ratings, index = movie_titles)\n",
    "ser"
   ]
  },
  {
   "cell_type": "code",
   "execution_count": 43,
   "metadata": {},
   "outputs": [
    {
     "data": {
      "text/plain": [
       "numpy.ndarray"
      ]
     },
     "execution_count": 43,
     "metadata": {},
     "output_type": "execute_result"
    }
   ],
   "source": [
    "type(ser.values)"
   ]
  },
  {
   "cell_type": "code",
   "execution_count": 46,
   "metadata": {},
   "outputs": [
    {
     "name": "stdout",
     "output_type": "stream",
     "text": [
      "[8.  7.3 8.5 8.6]\n",
      "Index(['The Avengers', 'Avengers: Age of Ultron', 'Avengers: Infinite War',\n",
      "       'Avengers: Endgame'],\n",
      "      dtype='object')\n"
     ]
    }
   ],
   "source": [
    "print(ser.values)\n",
    "print(ser.index)"
   ]
  },
  {
   "cell_type": "code",
   "execution_count": 47,
   "metadata": {},
   "outputs": [
    {
     "data": {
      "text/plain": [
       "The Avengers               80.0\n",
       "Avengers: Age of Ultron    73.0\n",
       "Avengers: Infinite War     85.0\n",
       "Avengers: Endgame          86.0\n",
       "dtype: float64"
      ]
     },
     "execution_count": 47,
     "metadata": {},
     "output_type": "execute_result"
    }
   ],
   "source": [
    "# Vectorization.\n",
    "ser*10"
   ]
  },
  {
   "cell_type": "code",
   "execution_count": 48,
   "metadata": {},
   "outputs": [
    {
     "data": {
      "text/plain": [
       "The Avengers              8.0\n",
       "Avengers: Infinite War    8.5\n",
       "Avengers: Endgame         8.6\n",
       "dtype: float64"
      ]
     },
     "execution_count": 48,
     "metadata": {},
     "output_type": "execute_result"
    }
   ],
   "source": [
    "# Boolean type is applicable.\n",
    "ser[ser >= 8]"
   ]
  },
  {
   "cell_type": "code",
   "execution_count": 50,
   "metadata": {},
   "outputs": [
    {
     "data": {
      "text/plain": [
       "8.5"
      ]
     },
     "execution_count": 50,
     "metadata": {},
     "output_type": "execute_result"
    }
   ],
   "source": [
    "ser['Avengers: Infinite War']"
   ]
  },
  {
   "cell_type": "code",
   "execution_count": 52,
   "metadata": {},
   "outputs": [
    {
     "data": {
      "text/plain": [
       "8.5"
      ]
     },
     "execution_count": 52,
     "metadata": {},
     "output_type": "execute_result"
    }
   ],
   "source": [
    "ser[2]"
   ]
  },
  {
   "cell_type": "code",
   "execution_count": null,
   "metadata": {},
   "outputs": [],
   "source": []
  },
  {
   "cell_type": "code",
   "execution_count": null,
   "metadata": {},
   "outputs": [],
   "source": []
  },
  {
   "cell_type": "code",
   "execution_count": null,
   "metadata": {},
   "outputs": [],
   "source": []
  },
  {
   "cell_type": "code",
   "execution_count": 57,
   "metadata": {},
   "outputs": [
    {
     "data": {
      "text/html": [
       "<div>\n",
       "<style scoped>\n",
       "    .dataframe tbody tr th:only-of-type {\n",
       "        vertical-align: middle;\n",
       "    }\n",
       "\n",
       "    .dataframe tbody tr th {\n",
       "        vertical-align: top;\n",
       "    }\n",
       "\n",
       "    .dataframe thead th {\n",
       "        text-align: right;\n",
       "    }\n",
       "</style>\n",
       "<table border=\"1\" class=\"dataframe\">\n",
       "  <thead>\n",
       "    <tr style=\"text-align: right;\">\n",
       "      <th></th>\n",
       "      <th>movie</th>\n",
       "      <th>rating</th>\n",
       "    </tr>\n",
       "  </thead>\n",
       "  <tbody>\n",
       "    <tr>\n",
       "      <th>0</th>\n",
       "      <td>The Avengers</td>\n",
       "      <td>8.0</td>\n",
       "    </tr>\n",
       "    <tr>\n",
       "      <th>1</th>\n",
       "      <td>Avengers: Age of Ultron</td>\n",
       "      <td>7.3</td>\n",
       "    </tr>\n",
       "    <tr>\n",
       "      <th>2</th>\n",
       "      <td>Avengers: Infinite War</td>\n",
       "      <td>8.5</td>\n",
       "    </tr>\n",
       "    <tr>\n",
       "      <th>3</th>\n",
       "      <td>Avengers: Endgame</td>\n",
       "      <td>8.6</td>\n",
       "    </tr>\n",
       "  </tbody>\n",
       "</table>\n",
       "</div>"
      ],
      "text/plain": [
       "                     movie  rating\n",
       "0             The Avengers     8.0\n",
       "1  Avengers: Age of Ultron     7.3\n",
       "2   Avengers: Infinite War     8.5\n",
       "3        Avengers: Endgame     8.6"
      ]
     },
     "execution_count": 57,
     "metadata": {},
     "output_type": "execute_result"
    }
   ],
   "source": [
    "avengers = pd.DataFrame()\n",
    "avengers['movie'] = movie_titles\n",
    "avengers['rating'] = movie_ratings\n",
    "avengers"
   ]
  },
  {
   "cell_type": "code",
   "execution_count": 58,
   "metadata": {},
   "outputs": [
    {
     "data": {
      "text/plain": [
       "pandas.core.frame.DataFrame"
      ]
     },
     "execution_count": 58,
     "metadata": {},
     "output_type": "execute_result"
    }
   ],
   "source": [
    "type(avengers)"
   ]
  },
  {
   "cell_type": "code",
   "execution_count": 59,
   "metadata": {},
   "outputs": [
    {
     "data": {
      "text/plain": [
       "RangeIndex(start=0, stop=4, step=1)"
      ]
     },
     "execution_count": 59,
     "metadata": {},
     "output_type": "execute_result"
    }
   ],
   "source": [
    "avengers.index"
   ]
  },
  {
   "cell_type": "code",
   "execution_count": 60,
   "metadata": {},
   "outputs": [
    {
     "data": {
      "text/plain": [
       "Index(['movie', 'rating'], dtype='object')"
      ]
     },
     "execution_count": 60,
     "metadata": {},
     "output_type": "execute_result"
    }
   ],
   "source": [
    "avengers.columns"
   ]
  },
  {
   "cell_type": "code",
   "execution_count": 65,
   "metadata": {},
   "outputs": [
    {
     "data": {
      "text/plain": [
       "array(['The Avengers', 'Avengers: Age of Ultron',\n",
       "       'Avengers: Infinite War', 'Avengers: Endgame'], dtype=object)"
      ]
     },
     "execution_count": 65,
     "metadata": {},
     "output_type": "execute_result"
    }
   ],
   "source": [
    "avengers['movie'].values"
   ]
  },
  {
   "cell_type": "code",
   "execution_count": 68,
   "metadata": {},
   "outputs": [
    {
     "data": {
      "text/plain": [
       "array(['The Avengers', 'Avengers: Age of Ultron',\n",
       "       'Avengers: Infinite War', 'Avengers: Endgame'], dtype=object)"
      ]
     },
     "execution_count": 68,
     "metadata": {},
     "output_type": "execute_result"
    }
   ],
   "source": [
    "avengers['movie'].values"
   ]
  },
  {
   "cell_type": "code",
   "execution_count": null,
   "metadata": {},
   "outputs": [],
   "source": []
  },
  {
   "cell_type": "code",
   "execution_count": 69,
   "metadata": {},
   "outputs": [
    {
     "name": "stdout",
     "output_type": "stream",
     "text": [
      "Int64Index([3, 5, 7], dtype='int64')\n",
      "Int64Index([1, 2, 3, 5, 7, 9], dtype='int64')\n",
      "Int64Index([1, 2, 9], dtype='int64')\n"
     ]
    }
   ],
   "source": [
    "# Set is useful for joint, union and independent...\n",
    "odds_index = pd.Index([1, 3, 5, 7, 9])\n",
    "primes_index = pd.Index([2, 3, 5, 7])\n",
    "print(odds_index & primes_index) # and\n",
    "print(odds_index | primes_index) # or\n",
    "print(odds_index ^ primes_index) # exclusive or"
   ]
  },
  {
   "cell_type": "code",
   "execution_count": 70,
   "metadata": {},
   "outputs": [
    {
     "data": {
      "text/plain": [
       "Int64Index([3, 5, 7], dtype='int64')"
      ]
     },
     "execution_count": 70,
     "metadata": {},
     "output_type": "execute_result"
    }
   ],
   "source": [
    "# Joint\n",
    "odds_index & primes_index"
   ]
  },
  {
   "cell_type": "code",
   "execution_count": 71,
   "metadata": {},
   "outputs": [
    {
     "data": {
      "text/plain": [
       "Int64Index([1, 2, 3, 5, 7, 9], dtype='int64')"
      ]
     },
     "execution_count": 71,
     "metadata": {},
     "output_type": "execute_result"
    }
   ],
   "source": [
    "odds_index | primes_index"
   ]
  },
  {
   "cell_type": "code",
   "execution_count": 72,
   "metadata": {},
   "outputs": [
    {
     "data": {
      "text/plain": [
       "Int64Index([1, 2, 9], dtype='int64')"
      ]
     },
     "execution_count": 72,
     "metadata": {},
     "output_type": "execute_result"
    }
   ],
   "source": [
    "# XOR（Exclusive OR）\n",
    "odds_index ^ primes_index"
   ]
  },
  {
   "cell_type": "code",
   "execution_count": null,
   "metadata": {},
   "outputs": [],
   "source": [
    "odds_index ^ primes_index"
   ]
  },
  {
   "cell_type": "code",
   "execution_count": 73,
   "metadata": {},
   "outputs": [
    {
     "data": {
      "text/plain": [
       "Int64Index([1, 9], dtype='int64')"
      ]
     },
     "execution_count": 73,
     "metadata": {},
     "output_type": "execute_result"
    }
   ],
   "source": [
    "odds_index.difference(primes_index)"
   ]
  },
  {
   "cell_type": "code",
   "execution_count": 75,
   "metadata": {},
   "outputs": [
    {
     "data": {
      "text/plain": [
       "Int64Index([2], dtype='int64')"
      ]
     },
     "execution_count": 75,
     "metadata": {},
     "output_type": "execute_result"
    }
   ],
   "source": [
    "primes_index.difference(odds_index)"
   ]
  },
  {
   "cell_type": "code",
   "execution_count": null,
   "metadata": {},
   "outputs": [],
   "source": [
    "..."
   ]
  },
  {
   "cell_type": "code",
   "execution_count": null,
   "metadata": {},
   "outputs": [],
   "source": []
  },
  {
   "cell_type": "code",
   "execution_count": null,
   "metadata": {},
   "outputs": [],
   "source": []
  },
  {
   "cell_type": "code",
   "execution_count": 76,
   "metadata": {},
   "outputs": [
    {
     "name": "stdout",
     "output_type": "stream",
     "text": [
      "0    9.0\n",
      "1    8.9\n",
      "2    8.8\n",
      "3    8.7\n",
      "dtype: float64\n"
     ]
    }
   ],
   "source": [
    "movie_ratings = [9.0, 8.9, 8.8, 8.7]\n",
    "ser = pd.Series(movie_ratings)\n",
    "print(ser)"
   ]
  },
  {
   "cell_type": "code",
   "execution_count": null,
   "metadata": {},
   "outputs": [],
   "source": []
  },
  {
   "cell_type": "code",
   "execution_count": null,
   "metadata": {},
   "outputs": [],
   "source": []
  },
  {
   "cell_type": "code",
   "execution_count": null,
   "metadata": {},
   "outputs": [],
   "source": []
  },
  {
   "cell_type": "code",
   "execution_count": 77,
   "metadata": {},
   "outputs": [
    {
     "name": "stdout",
     "output_type": "stream",
     "text": [
      "Index(['The Dark Knight', 'Schindler's List', 'Forrest Gump', 'Inception'], dtype='object')\n",
      "[9.  8.9 8.8 8.7]\n",
      "The Dark Knight     9.0\n",
      "Schindler's List    8.9\n",
      "Forrest Gump        8.8\n",
      "Inception           8.7\n",
      "dtype: float64\n"
     ]
    }
   ],
   "source": [
    "movie_ratings = [9.0, 8.9, 8.8, 8.7]\n",
    "movie_titles = [\"The Dark Knight\", \"Schindler's List\", \"Forrest Gump\", \"Inception\"]\n",
    "ser = pd.Series(movie_ratings, index=movie_titles)\n",
    "print(ser.index)\n",
    "print(ser.values)\n",
    "print(ser)"
   ]
  },
  {
   "cell_type": "code",
   "execution_count": null,
   "metadata": {},
   "outputs": [],
   "source": []
  },
  {
   "cell_type": "code",
   "execution_count": 79,
   "metadata": {},
   "outputs": [
    {
     "name": "stdout",
     "output_type": "stream",
     "text": [
      "dict_keys(['The Dark Knight', \"Schindler's List\", 'Forrest Gump', 'Inception'])\n",
      "dict_values([9.0, 8.9, 8.8, 8.7])\n",
      "\n",
      "\n",
      "Index(['The Dark Knight', 'Schindler's List', 'Forrest Gump', 'Inception'], dtype='object')\n",
      "[9.  8.9 8.8 8.7]\n",
      "The Dark Knight     9.0\n",
      "Schindler's List    8.9\n",
      "Forrest Gump        8.8\n",
      "Inception           8.7\n",
      "dtype: float64\n"
     ]
    }
   ],
   "source": [
    "movie_dict = {\n",
    "    \"The Dark Knight\": 9.0,\n",
    "    \"Schindler's List\": 8.9,\n",
    "    \"Forrest Gump\": 8.8,\n",
    "    \"Inception\": 8.7\n",
    "}\n",
    "ser = pd.Series(movie_dict)\n",
    "print(movie_dict.keys())\n",
    "print(movie_dict.values())\n",
    "print(\"\\n\")\n",
    "print(ser.index)\n",
    "print(ser.values)\n",
    "print(ser)"
   ]
  },
  {
   "cell_type": "code",
   "execution_count": null,
   "metadata": {},
   "outputs": [],
   "source": []
  },
  {
   "cell_type": "code",
   "execution_count": null,
   "metadata": {},
   "outputs": [],
   "source": []
  },
  {
   "cell_type": "code",
   "execution_count": null,
   "metadata": {},
   "outputs": [],
   "source": [
    "# Read csv document"
   ]
  },
  {
   "cell_type": "code",
   "execution_count": 82,
   "metadata": {},
   "outputs": [
    {
     "data": {
      "text/html": [
       "<div>\n",
       "<style scoped>\n",
       "    .dataframe tbody tr th:only-of-type {\n",
       "        vertical-align: middle;\n",
       "    }\n",
       "\n",
       "    .dataframe tbody tr th {\n",
       "        vertical-align: top;\n",
       "    }\n",
       "\n",
       "    .dataframe thead th {\n",
       "        text-align: right;\n",
       "    }\n",
       "</style>\n",
       "<table border=\"1\" class=\"dataframe\">\n",
       "  <thead>\n",
       "    <tr style=\"text-align: right;\">\n",
       "      <th></th>\n",
       "      <th>Province/State</th>\n",
       "      <th>Country/Region</th>\n",
       "      <th>Last Update</th>\n",
       "      <th>Confirmed</th>\n",
       "      <th>Deaths</th>\n",
       "      <th>Recovered</th>\n",
       "    </tr>\n",
       "  </thead>\n",
       "  <tbody>\n",
       "    <tr>\n",
       "      <th>0</th>\n",
       "      <td>Hubei</td>\n",
       "      <td>Mainland China</td>\n",
       "      <td>2020-02-14 10:03:03</td>\n",
       "      <td>51986</td>\n",
       "      <td>1318</td>\n",
       "      <td>3900</td>\n",
       "    </tr>\n",
       "    <tr>\n",
       "      <th>1</th>\n",
       "      <td>Guangdong</td>\n",
       "      <td>Mainland China</td>\n",
       "      <td>2020-02-14 12:53:02</td>\n",
       "      <td>1261</td>\n",
       "      <td>2</td>\n",
       "      <td>362</td>\n",
       "    </tr>\n",
       "    <tr>\n",
       "      <th>2</th>\n",
       "      <td>Henan</td>\n",
       "      <td>Mainland China</td>\n",
       "      <td>2020-02-14 12:53:02</td>\n",
       "      <td>1184</td>\n",
       "      <td>11</td>\n",
       "      <td>357</td>\n",
       "    </tr>\n",
       "    <tr>\n",
       "      <th>3</th>\n",
       "      <td>Zhejiang</td>\n",
       "      <td>Mainland China</td>\n",
       "      <td>2020-02-14 14:13:15</td>\n",
       "      <td>1155</td>\n",
       "      <td>0</td>\n",
       "      <td>403</td>\n",
       "    </tr>\n",
       "    <tr>\n",
       "      <th>4</th>\n",
       "      <td>Hunan</td>\n",
       "      <td>Mainland China</td>\n",
       "      <td>2020-02-14 09:23:04</td>\n",
       "      <td>988</td>\n",
       "      <td>2</td>\n",
       "      <td>364</td>\n",
       "    </tr>\n",
       "    <tr>\n",
       "      <th>...</th>\n",
       "      <td>...</td>\n",
       "      <td>...</td>\n",
       "      <td>...</td>\n",
       "      <td>...</td>\n",
       "      <td>...</td>\n",
       "      <td>...</td>\n",
       "    </tr>\n",
       "    <tr>\n",
       "      <th>69</th>\n",
       "      <td>Madison, WI</td>\n",
       "      <td>US</td>\n",
       "      <td>2020-02-05 21:53:02</td>\n",
       "      <td>1</td>\n",
       "      <td>0</td>\n",
       "      <td>0</td>\n",
       "    </tr>\n",
       "    <tr>\n",
       "      <th>70</th>\n",
       "      <td>Orange, CA</td>\n",
       "      <td>US</td>\n",
       "      <td>2020-02-01 19:53:03</td>\n",
       "      <td>1</td>\n",
       "      <td>0</td>\n",
       "      <td>0</td>\n",
       "    </tr>\n",
       "    <tr>\n",
       "      <th>71</th>\n",
       "      <td>San Antonio, TX</td>\n",
       "      <td>US</td>\n",
       "      <td>2020-02-13 18:53:02</td>\n",
       "      <td>1</td>\n",
       "      <td>0</td>\n",
       "      <td>0</td>\n",
       "    </tr>\n",
       "    <tr>\n",
       "      <th>72</th>\n",
       "      <td>Seattle, WA</td>\n",
       "      <td>US</td>\n",
       "      <td>2020-02-09 07:03:04</td>\n",
       "      <td>1</td>\n",
       "      <td>0</td>\n",
       "      <td>1</td>\n",
       "    </tr>\n",
       "    <tr>\n",
       "      <th>73</th>\n",
       "      <td>Tempe, AZ</td>\n",
       "      <td>US</td>\n",
       "      <td>2020-02-01 19:43:03</td>\n",
       "      <td>1</td>\n",
       "      <td>0</td>\n",
       "      <td>0</td>\n",
       "    </tr>\n",
       "  </tbody>\n",
       "</table>\n",
       "<p>74 rows × 6 columns</p>\n",
       "</div>"
      ],
      "text/plain": [
       "     Province/State  Country/Region          Last Update  Confirmed  Deaths  \\\n",
       "0             Hubei  Mainland China  2020-02-14 10:03:03      51986    1318   \n",
       "1         Guangdong  Mainland China  2020-02-14 12:53:02       1261       2   \n",
       "2             Henan  Mainland China  2020-02-14 12:53:02       1184      11   \n",
       "3          Zhejiang  Mainland China  2020-02-14 14:13:15       1155       0   \n",
       "4             Hunan  Mainland China  2020-02-14 09:23:04        988       2   \n",
       "..              ...             ...                  ...        ...     ...   \n",
       "69      Madison, WI              US  2020-02-05 21:53:02          1       0   \n",
       "70       Orange, CA              US  2020-02-01 19:53:03          1       0   \n",
       "71  San Antonio, TX              US  2020-02-13 18:53:02          1       0   \n",
       "72      Seattle, WA              US  2020-02-09 07:03:04          1       0   \n",
       "73        Tempe, AZ              US  2020-02-01 19:43:03          1       0   \n",
       "\n",
       "    Recovered  \n",
       "0        3900  \n",
       "1         362  \n",
       "2         357  \n",
       "3         403  \n",
       "4         364  \n",
       "..        ...  \n",
       "69          0  \n",
       "70          0  \n",
       "71          0  \n",
       "72          1  \n",
       "73          0  \n",
       "\n",
       "[74 rows x 6 columns]"
      ]
     },
     "execution_count": 82,
     "metadata": {},
     "output_type": "execute_result"
    }
   ],
   "source": [
    "df = pd.read_csv(\"https://raw.githubusercontent.com/CSSEGISandData/COVID-19/master/archived_data/archived_daily_case_updates/02-14-2020_1123.csv\")\n",
    "df\n"
   ]
  },
  {
   "cell_type": "code",
   "execution_count": null,
   "metadata": {},
   "outputs": [],
   "source": []
  },
  {
   "cell_type": "code",
   "execution_count": 84,
   "metadata": {},
   "outputs": [],
   "source": [
    "# Read JSON file"
   ]
  },
  {
   "cell_type": "code",
   "execution_count": 85,
   "metadata": {},
   "outputs": [
    {
     "data": {
      "text/html": [
       "<div>\n",
       "<style scoped>\n",
       "    .dataframe tbody tr th:only-of-type {\n",
       "        vertical-align: middle;\n",
       "    }\n",
       "\n",
       "    .dataframe tbody tr th {\n",
       "        vertical-align: top;\n",
       "    }\n",
       "\n",
       "    .dataframe thead th {\n",
       "        text-align: right;\n",
       "    }\n",
       "</style>\n",
       "<table border=\"1\" class=\"dataframe\">\n",
       "  <thead>\n",
       "    <tr style=\"text-align: right;\">\n",
       "      <th></th>\n",
       "      <th>title</th>\n",
       "      <th>rating</th>\n",
       "    </tr>\n",
       "  </thead>\n",
       "  <tbody>\n",
       "    <tr>\n",
       "      <th>0</th>\n",
       "      <td>The Dark Knight</td>\n",
       "      <td>9.0</td>\n",
       "    </tr>\n",
       "    <tr>\n",
       "      <th>1</th>\n",
       "      <td>Schindler's List</td>\n",
       "      <td>8.9</td>\n",
       "    </tr>\n",
       "    <tr>\n",
       "      <th>2</th>\n",
       "      <td>Forrest Gump</td>\n",
       "      <td>8.8</td>\n",
       "    </tr>\n",
       "    <tr>\n",
       "      <th>3</th>\n",
       "      <td>Inception</td>\n",
       "      <td>8.7</td>\n",
       "    </tr>\n",
       "  </tbody>\n",
       "</table>\n",
       "</div>"
      ],
      "text/plain": [
       "              title  rating\n",
       "0   The Dark Knight     9.0\n",
       "1  Schindler's List     8.9\n",
       "2      Forrest Gump     8.8\n",
       "3         Inception     8.7"
      ]
     },
     "execution_count": 85,
     "metadata": {},
     "output_type": "execute_result"
    }
   ],
   "source": [
    "df = pd.read_json(\"https://python4ds.s3-ap-northeast-1.amazonaws.com/movies.json\")\n",
    "df"
   ]
  },
  {
   "cell_type": "code",
   "execution_count": null,
   "metadata": {},
   "outputs": [],
   "source": []
  },
  {
   "cell_type": "code",
   "execution_count": null,
   "metadata": {},
   "outputs": [],
   "source": [
    "# Read data from database\n",
    "# With SQL command"
   ]
  },
  {
   "cell_type": "code",
   "execution_count": 83,
   "metadata": {},
   "outputs": [
    {
     "data": {
      "text/html": [
       "<div>\n",
       "<style scoped>\n",
       "    .dataframe tbody tr th:only-of-type {\n",
       "        vertical-align: middle;\n",
       "    }\n",
       "\n",
       "    .dataframe tbody tr th {\n",
       "        vertical-align: top;\n",
       "    }\n",
       "\n",
       "    .dataframe thead th {\n",
       "        text-align: right;\n",
       "    }\n",
       "</style>\n",
       "<table border=\"1\" class=\"dataframe\">\n",
       "  <thead>\n",
       "    <tr style=\"text-align: right;\">\n",
       "      <th></th>\n",
       "      <th>title</th>\n",
       "      <th>rating</th>\n",
       "    </tr>\n",
       "  </thead>\n",
       "  <tbody>\n",
       "    <tr>\n",
       "      <th>0</th>\n",
       "      <td>Schindler's List</td>\n",
       "      <td>8.9</td>\n",
       "    </tr>\n",
       "    <tr>\n",
       "      <th>1</th>\n",
       "      <td>Forrest Gump</td>\n",
       "      <td>8.8</td>\n",
       "    </tr>\n",
       "    <tr>\n",
       "      <th>2</th>\n",
       "      <td>Inception</td>\n",
       "      <td>8.7</td>\n",
       "    </tr>\n",
       "  </tbody>\n",
       "</table>\n",
       "</div>"
      ],
      "text/plain": [
       "              title  rating\n",
       "0  Schindler's List     8.9\n",
       "1      Forrest Gump     8.8\n",
       "2         Inception     8.7"
      ]
     },
     "execution_count": 83,
     "metadata": {},
     "output_type": "execute_result"
    }
   ],
   "source": [
    "import sqlite3\n",
    "\n",
    "# Creating a demo.db database in working directory\n",
    "conn = sqlite3.connect('demo.db')\n",
    "# Importing a table\n",
    "movie_ratings = [9.0, 8.9, 8.8, 8.7]\n",
    "movie_titles = [\"The Dark Knight\", \"Schindler's List\", \"Forrest Gump\", \"Inception\"]\n",
    "df = pd.DataFrame()\n",
    "df[\"title\"] = movie_titles\n",
    "df[\"rating\"] = movie_ratings\n",
    "df.to_sql(\"movies\", index=False, con=conn, if_exists='replace')\n",
    "# Importing data from demo.movies\n",
    "query_str = \"\"\"\n",
    "SELECT *\n",
    "    FROM movies\n",
    "    WHERE rating < 9.0;\n",
    "\"\"\"\n",
    "pd.read_sql(query_str, con=conn)"
   ]
  },
  {
   "cell_type": "code",
   "execution_count": null,
   "metadata": {},
   "outputs": [],
   "source": []
  }
 ],
 "metadata": {
  "kernelspec": {
   "display_name": "Python 3",
   "language": "python",
   "name": "python3"
  },
  "language_info": {
   "codemirror_mode": {
    "name": "ipython",
    "version": 3
   },
   "file_extension": ".py",
   "mimetype": "text/x-python",
   "name": "python",
   "nbconvert_exporter": "python",
   "pygments_lexer": "ipython3",
   "version": "3.7.6"
  }
 },
 "nbformat": 4,
 "nbformat_minor": 4
}
